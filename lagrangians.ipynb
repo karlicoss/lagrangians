{
 "cells": [
  {
   "cell_type": "markdown",
   "metadata": {},
   "source": [
    "TODO say something blah blah\n",
    "this is pretty simple stuff, but I've never seen it visualised anywhere and I think it would have helped me if it existed\n",
    "TODO literate programming blogging blah blah"
   ]
  },
  {
   "cell_type": "code",
   "execution_count": null,
   "metadata": {},
   "outputs": [],
   "source": [
    "%matplotlib inline\n",
    "# TODO P hmm try that? %matplotlib notebook\n",
    "from IPython.display import display, Math, Markdown\n",
    "from sympy import *\n",
    "init_printing(use_latex='mathjax')\n",
    "# TODO P wonder if we can convert to latex by default??\n",
    "# TODO P I guess the answer is here?? https://docs.sympy.org/latest/_modules/sympy/printing/str.html\n",
    "# TODO P shit. text has to be displayed as markdown...\n",
    "# TODO P shit. maybe wrap patterns in text, and everythin else is latex??\n",
    "# TODO render line numbers\n",
    "def mdisplay(fmt, **kwargs):\n",
    "    # TODO P ugh. how to \\textrm stuff?\n",
    "    display(Math(fmt.format(**{k: latex(v) for k, v in kwargs.items()})))"
   ]
  },
  {
   "cell_type": "code",
   "execution_count": null,
   "metadata": {},
   "outputs": [],
   "source": [
    "from sympy import diff as D, Function as F\n",
    "from sympy.solvers.ode import classify_sysode # TODO use that?\n",
    "\n",
    "\n",
    "t = symbols('t', real=True) # time\n",
    "q = F('q')(t) # position\n",
    "v = F('v')(t) # velocity\n",
    "p = F('p')(t) # [conjugate] momentum"
   ]
  },
  {
   "cell_type": "markdown",
   "metadata": {},
   "source": [
    "Sadly, jupyter's capabilities for literate programing turned out to be poorer than I expected...\n",
    "Basically, you can't split function among several cells.\n",
    "Is that another thing I have to implement by myself once again?\n",
    "Anyway, over the course of the next function I'm gonna communicate with you via comments."
   ]
  },
  {
   "cell_type": "code",
   "execution_count": null,
   "metadata": {},
   "outputs": [],
   "source": [
    "# TODO P how to break down this function in ipython notebook?\n",
    "# TODO P doesn't look like it's possible. ugh, it's a bit shit...\n",
    "# TODO P if we display side by side it might actually be ok\n",
    "def solve_lagrangian(Lag):\n",
    "    # So, we've go a Lagrangian:\n",
    "    mdisplay(\"L = {L}\", L=Lag)\n",
    "\n",
    "    # TODO P jeez, I can' even insert link properly!    \n",
    "    \"\"\"\n",
    "    To actually get motion it's way more convenient to solve Hamilton's equations.\n",
    "    It's fairly easy to get them via something called Legendre transormation:\n",
    "    https://en.wikipedia.org/wiki/Hamiltonian_mechanics#Calculating_a_Hamiltonian_from_a_Lagrangian    \n",
    "    \"\"\"\n",
    "    \n",
    "    p_of_v = Eq(p, Lag.diff(v))\n",
    "    [sol] = solve(p_of_v, v)\n",
    "    v_of_p = Eq(v, sol)\n",
    "    mdisplay(\"p over v: {pv}\", pv=p_of_v)\n",
    "    mdisplay(\"v over p: {vp}\", vp=v_of_p)\n",
    "    #for vtop in vtops:\n",
    "    #    mdisplay(\"v(p) = {vtop}\", vtop=vtop)    \n",
    "    \n",
    "    H = (v * p_of_v.rhs - Lag).subs({v_of_p.lhs: v_of_p.rhs})\n",
    "    mdisplay(\"H = {H}\", H=H)\n",
    "    \"\"\"\n",
    "    Cool, we've got the Hamiltonian.\n",
    "    However, looks like variable replacement in Sympy is a bit more tedious than I expected.\n",
    "    \"\"\"\n",
    "    \n",
    "    dq_eq = Eq(q.diff(t),  H.diff(p))\n",
    "    dp_eq = Eq(p.diff(t), -H.diff(q))\n",
    "    \n",
    "    mdisplay(\"Hamilton's equations: {s}\", s=[dq_eq, dp_eq])\n",
    "\n",
    "    \"\"\"\n",
    "    lambdify is neat! It substitutes numpy equivalents for sympy functions,\n",
    "    so we get decent performance.\n",
    "    \"\"\"\n",
    "    dq = lambdify((q, p, t), dq_eq.rhs)\n",
    "    dp = lambdify((q, p, t), dp_eq.rhs)\n",
    "    \n",
    "    \"\"\"\n",
    "    Ok, let's finally have a break from this function, the actual numerical solving\n",
    "    can be extracted in a different function\n",
    "    \"\"\"\n",
    "    return (dq, dp)\n",
    "# TODO might be interesting to pass q0v0?"
   ]
  },
  {
   "cell_type": "markdown",
   "metadata": {},
   "source": [
    "TODO blah blah"
   ]
  },
  {
   "cell_type": "code",
   "execution_count": null,
   "metadata": {},
   "outputs": [],
   "source": [
    "import matplotlib.pyplot as plt\n",
    "plt.rcParams['figure.figsize'] = [9, 9]\n",
    "from sympy.plotting import plot, plot_parametric\n",
    "from scipy.integrate import odeint \n",
    "from numpy import linspace\n",
    "\n",
    "# TODO might be interesting to pass q0v0?\n",
    "def plot_motion(\n",
    "    Lag, \n",
    "    q0p0s=[], # imitial data\n",
    "    T_max=20, T_steps=1000, \n",
    "    q_max=None, \n",
    "    p_max=None,\n",
    "    plot_pq=True,\n",
    "    plot_phase=True,\n",
    "    plot_phase3d=True,\n",
    "):\n",
    "    N = len(q0p0s)\n",
    "    labels = [f'{float(qq):.1f}, {float(pp):.1f}' for (qq, pp) in q0p0s]\n",
    "    \n",
    "    dq, dp = solve_lagrangian(Lag)\n",
    "    \n",
    "    times = linspace(0, T_max, T_steps)\n",
    "    def integrate_step(qp, t):\n",
    "        prev_q, prev_p = qp\n",
    "        next_q = dq(prev_q, prev_p, t)\n",
    "        next_p =  dp(prev_q, prev_p, t)\n",
    "        return (next_q, next_p)\n",
    "    \n",
    "    all_ts = []\n",
    "    all_qs = []\n",
    "    all_ps = []\n",
    "    for q0, p0 in q0p0s:\n",
    "        sol = odeint(integrate_step, (q0, p0), times)\n",
    "        all_ts.append(times)\n",
    "        all_qs.append(sol[:, 0])\n",
    "        all_ps.append(sol[:, 1])\n",
    "\n",
    "    # ok, let's plot everything now!\n",
    "\n",
    "    blues  = plt.cm.winter(linspace(0, 1, N))\n",
    "    reds   = plt.cm.autumn(linspace(0, 1, N))\n",
    "    greens = plt.cm.Set1(linspace(0.5, 1, N))\n",
    "    # TODO ugh. better colors?\n",
    "\n",
    "    # TODO display side by side?\n",
    "    if plot_pq:\n",
    "        plt.grid()\n",
    "        plt.title('position/momentum over time')\n",
    "        plt.xlabel('t')\n",
    "        plt.ylabel('q,p')\n",
    "        for label, ts, qs, ps, blue, red in zip(labels, all_ts, all_qs, all_ps, blues, reds):\n",
    "            plt.plot(ts, qs, color=blue, label=f'q {label}')\n",
    "            plt.plot(ts, ps, color=red, label=f'p {label}')\n",
    "        plt.legend(loc='upper left')\n",
    "        plt.show()\n",
    "    # TODO larger plot?..\n",
    "    # TODO FIXME definitely make it wider and side by side\n",
    "\n",
    "    if plot_phase:\n",
    "        plt.grid()\n",
    "        plt.title('phase plot')\n",
    "        plt.xlabel('q(t)')\n",
    "        plt.ylabel('p(t)')\n",
    "        if q_max is not None: plt.xlim((-q_max, q_max))\n",
    "        if p_max is not None: plt.ylim((-p_max, p_max))\n",
    "        for label, ts, qs, ps, green in zip(labels, all_ts, all_qs, all_ps, greens):\n",
    "            plt.plot(qs, ps, color=green, label=f'{label}')\n",
    "        plt.legend(loc='upper left')\n",
    "        plt.show()\n",
    "\n",
    "    if plot_phase3d:\n",
    "        from mpl_toolkits.mplot3d import Axes3D\n",
    "        plt.gca(projection='3d')\n",
    "        plt.grid()\n",
    "        plt.title('phase plot')\n",
    "        plt.xlabel('q')\n",
    "        plt.ylabel('p')\n",
    "        if q_max is not None: plt.xlim((-q_max, q_max))\n",
    "        if p_max is not None: plt.ylim((-p_max, p_max))\n",
    "        plt.gca().set_zlabel('t')\n",
    "        for label, ts, qs, ps, green in zip(labels, all_ts, all_qs, all_ps, greens):\n",
    "            plt.plot(qs, ps, ts, color=green, label=label)\n",
    "        plt.legend(loc='upper left')\n",
    "        plt.show()"
   ]
  },
  {
   "cell_type": "markdown",
   "metadata": {},
   "source": [
    "Ok, now that we defined some cryptic functions (some sort of <spoiler> tag would be really nice, wouldn't it?), let's actually do something.\n",
    "    \n",
    "First test subject is pretty obvious: the harmonic oscillator."
   ]
  },
  {
   "cell_type": "code",
   "execution_count": null,
   "metadata": {},
   "outputs": [],
   "source": [
    "half = Rational(1, 2)    \n",
    "L_harm = half * v ** 2 - half * q ** 2\n",
    "\n",
    "plot_motion(\n",
    "    L_harm, \n",
    "    q0p0s=[\n",
    "        (-10, 10),\n",
    "        (10 , 10),\n",
    "        (10 , -10),\n",
    "        (-10, -10),\n",
    "    ]\n",
    ")"
   ]
  },
  {
   "cell_type": "markdown",
   "metadata": {},
   "source": [
    "As expected, we get circular motion in the position-momentum plane and a nice spiral on the projective plot.\n",
    "Let's try something else?"
   ]
  },
  {
   "cell_type": "code",
   "execution_count": null,
   "metadata": {},
   "outputs": [],
   "source": [
    "L_hill = half * v ** 2 + half * q ** 2\n",
    "plot_motion(\n",
    "    L_hill, \n",
    "    q0p0s=[\n",
    "        (-1, -1),\n",
    "        (1 , 1),\n",
    "        (1 , -1),\n",
    "        (-1, 1),\n",
    "    ],\n",
    "    T_max=2,\n",
    ")"
   ]
  },
  {
   "cell_type": "markdown",
   "metadata": {},
   "source": [
    "If you think about it, here we've got a potential hill! So the only equilibrium for this system is $q=0, p=0$. Within this Lagrangian, you can reach it if your momentum (which coincides with velocity) is larger than the position in absolute value and of the opposite sign.\n",
    "\n",
    "If the sign you your momentum is same as the sign of your position, you're basically forever doomed to slide down the potential! We can illustrate that by plotting more phase plots:"
   ]
  },
  {
   "cell_type": "code",
   "execution_count": null,
   "metadata": {},
   "outputs": [],
   "source": [
    "# from itertools import product\n",
    "# TODO better name\n",
    "def circle(R, phis):\n",
    "    return [(R * sin(phi), R * cos(phi)) for phi in phis]\n",
    "\n",
    "def circlespace(R, points): # TODO numpy?\n",
    "    return circle(R, linspace(0, 2 * np.pi, points))\n",
    "    \n",
    "# TODO legend for q,p is messed up..\n",
    "# TODO maxp, maxq?\n",
    "# TODO FIXME ugh, precision on plots..\n",
    "# TODO do circle actually\n",
    "# q0p0s=list(product(linspace(-2.0, 2.0, 5), linspace(-2.0, 2.0, 5))),\n",
    "# TODO only plot certain plots?\n",
    "# TODO would be nice to show time flow\n",
    "# TODO hide calculations\n",
    "plot_motion(\n",
    "    L_hill, \n",
    "    q0p0s=circlespace(R=5.0, points=36),\n",
    "    T_max=3,\n",
    "    p_max=5,\n",
    "    q_max=5,\n",
    "    plot_pq=False,\n",
    ")"
   ]
  },
  {
   "cell_type": "markdown",
   "metadata": {},
   "source": [
    "If you look at the 2D phase plot, you can clearly spot hyperbolas. This is not a coincidence considering that the Hamiltonian can be interpreted as energy which is conserved during the motion, and the lines where $p^2 + q^2 = C$ are exactly hyperbolas!"
   ]
  },
  {
   "cell_type": "code",
   "execution_count": null,
   "metadata": {},
   "outputs": [],
   "source": [
    "L = half * v ** 2 * q ** 2\n",
    "plot_motion(\n",
    "    L, \n",
    "    q0p0s=[\n",
    "        (-1, -1),\n",
    "        (1 , 1),\n",
    "        (1 , -1),\n",
    "        (-1, 1),\n",
    "    ],\n",
    "    T_max=0.5,\n",
    ")"
   ]
  },
  {
   "cell_type": "markdown",
   "metadata": {},
   "source": [
    "Now this is something fun! We get some warning from the ODE solver — and fair enough, if you look at the Hamiltonian, when $q=0$ clearly something bad has to happen. If you increase `T_max` past 0.5, the numerical solution just goes nuts.\n",
    "\n",
    "It's hard to tell what this Lagrangian represents TODO let me know.\n",
    "TODO highligh todos in hakyll/ci?\n",
    "TODO write about sympy\n",
    "TODO wtf?? slope field in wolfram is complete\n",
    "https://www.wolframalpha.com/input/?i=q%27%3Dp%2Fq%5E2;+p%27%3Dp%5E2%2Fq%5E3\n",
    "TODO mm. does it depend on which solution you choose or what?\n",
    "TODO huh? wolfram is solving it in complex numbers... https://www.wolframalpha.com/input/?i=q%27%3Dp%2Fq%5E2;+p%27%3Dp%5E2%2Fq%5E3+,+q(0)%3D-5,+p(0)%3D5\n",
    "\n",
    "TODO investigate what happens around 0..."
   ]
  },
  {
   "cell_type": "code",
   "execution_count": null,
   "metadata": {},
   "outputs": [],
   "source": [
    "L = exp(v) - q ** 2\n",
    "plot_motion(\n",
    "    L, \n",
    "    q0p0s=[\n",
    "        (-1, -1),\n",
    "        (1 , 1),\n",
    "        (1 , -1),\n",
    "        (-1, 1),\n",
    "    ],\n",
    "    T_max=0.5,\n",
    "    plot_phase=False, plot_phase3d=False,\n",
    ")"
   ]
  },
  {
   "cell_type": "markdown",
   "metadata": {},
   "source": [
    "Uh-oh, momentum appears under logarigthm. Let's just exclude negative momentum for now.."
   ]
  },
  {
   "cell_type": "code",
   "execution_count": null,
   "metadata": {},
   "outputs": [],
   "source": [
    "plot_motion(\n",
    "    L, \n",
    "    q0p0s=[(q0, 1) for q0 in np.linspace(-5, -0.5, 10)] + [(q0, 20) for q0 in np.linspace(-5, -0.5, 10)],\n",
    "    T_max=2,\n",
    ")"
   ]
  },
  {
   "cell_type": "markdown",
   "metadata": {},
   "source": [
    "TODO interesting! look at slope field, this lagrangian is always doomed!!!\n",
    "TODO what if we continue it to complex plane?\n",
    "TODO hmm. is the initial position the only thing defining when it dies?? TODO nah, se below, it seems pretty random..\n",
    "TODO what happens to energy here?? Yep, exactly. when the energy is positive, it's fucked!\n",
    "TODO figure out how this relates?\n",
    "TODO it's a funny universe\n",
    "TODO huh, x log x is 0 when x -> 0\n",
    "basically, we need to find when slope of the phase plot is 0? so p'(t) = 0"
   ]
  },
  {
   "cell_type": "code",
   "execution_count": null,
   "metadata": {},
   "outputs": [],
   "source": [
    "plot_motion(\n",
    "    L, \n",
    "    q0p0s=[(-0.2, p0) for p0 in np.linspace(2.0, 2.67, 10)],\n",
    "    T_max=5,\n",
    ")\n"
   ]
  },
  {
   "cell_type": "markdown",
   "metadata": {},
   "source": [
    "TODO hmm that initial turn is interesting?\n",
    "TODO what if position is 0? what does that mean?\n",
    "TODO no, clearly the closer you are to 0, the closer you die\n",
    "TODO HUH fuck??? ther are stable orbits!!!"
   ]
  },
  {
   "cell_type": "code",
   "execution_count": null,
   "metadata": {},
   "outputs": [],
   "source": [
    "# TODO shit. not invertible with repsect to v\n",
    "\n",
    "# TODO TypeError: 'Equality' object is not iterable -- this is clearly not the expected error...\n",
    "inits = [\n",
    "    (-15, -15),\n",
    "    (15, -15),\n",
    "    (-15, 15),\n",
    "    (15, 15),\n",
    "]\n",
    "q_i = 1\n",
    "p_i = 1\n",
    "\n",
    "\n",
    "\n",
    "# TODO exp + q ** 2?\n",
    "# TODO exp + q? could be interesting...\n",
    "\n",
    "# TODO v ** 3 is not uniquely invertible. is that a problem?\n",
    "# TODO right. any more interesting functions??\n",
    "\n",
    "# L = log(v) - q ** 2\n",
    "\n",
    "\n",
    "# ok, here it just bumps into the boundary as well\n",
    "# TODO wonder why is it so similar to exp??\n",
    "# TODO also, need to convert back to v from p?\n",
    "# TODO hm. logarithmic dies as well, but only defined for q > 0; p > 0\n",
    "\n",
    "# L = 1 / v ** 2  - q ** 2\n",
    "# this one is weird. if it doesn't get to p = 0 singularity, it's fine and just keeps goint to infty\n",
    "inits = [\n",
    "    #(-q_i , -p_i),\n",
    "    # (-5 , 5), # this guy lives a bit longer\n",
    "    (-10 , -100),\n",
    "    (-5 , -100),\n",
    "    (-1 , -100),\n",
    "    # (q_i  , p_i),\n",
    "]\n",
    "\n",
    "# TODO wtf?? what's up with duplication?\n",
    "plot_motion(\n",
    "    L,\n",
    "    q0p0s=inits,\n",
    "    T_max=30,\n",
    "    T_steps=1000,\n",
    ")\n",
    "    \n",
    "\n",
    "# TODO wolframs slope/direction plot is pretty cool. try to reproduce?\n",
    "# TODO phase plot?\n",
    "# TODO lambdify that and plot\n",
    "# display stuff on the left?"
   ]
  },
  {
   "cell_type": "code",
   "execution_count": null,
   "metadata": {},
   "outputs": [],
   "source": [
    "# ok, type3 makes sense\n",
    "\n",
    "\n",
    "\"\"\"\n",
    "# TODO move this to body\n",
    "Sadly, ironically Sympy can't really solve them symbolically appart from the simplest case.\n",
    "https://github.com/sympy/sympy/issues/15707\n",
    "\"\"\"\n",
    "\n",
    "\"\"\"\n",
    "s_q0, s_p0 = symbols('p_0 q_0', real=True)\n",
    "\n",
    "sol = dsolve(\n",
    "    system, \n",
    "    [q, p],\n",
    "    # ics={\n",
    "    #     q.subs(t, 0): s_q0,\n",
    "    #     p.subs(t, 0): s_p0,\n",
    "    # }\n",
    ")\n",
    "[q_sol, p_sol] = sol\n",
    "display(q_sol, p_sol)\n",
    "\n",
    "# TODO ugh. ok, I guess try numerically\n",
    "(q_sol, p_sol) = (e.subs({s_q0: q0, s_p0: p0}) for e in (q_sol, p_sol))\n",
    "# display(q_sol, p_sol)\n",
    "#plot_parametric(\n",
    "#    (q_sol.rhs, p_sol.rhs),\n",
    "#    (t, 0, 10),\n",
    "#    xlabel='q',\n",
    "#    ylabel='p',\n",
    "#)\n",
    "# from sympy.utilities.lambdify import lambdify\n",
    "\"\"\""
   ]
  }
 ],
 "metadata": {
  "blog": {
   "date": "9 Jan 2019",
   "title": "Fun with Lagrangians"
  },
  "kernelspec": {
   "display_name": "Python 3",
   "language": "python",
   "name": "python3"
  },
  "language_info": {
   "codemirror_mode": {
    "name": "ipython",
    "version": 3
   },
   "file_extension": ".py",
   "mimetype": "text/x-python",
   "name": "python",
   "nbconvert_exporter": "python",
   "pygments_lexer": "ipython3",
   "version": "3.6.7"
  }
 },
 "nbformat": 4,
 "nbformat_minor": 2
}
