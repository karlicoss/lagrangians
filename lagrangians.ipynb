{
 "cells": [
  {
   "cell_type": "code",
   "execution_count": null,
   "metadata": {
    "collapsed-summary": "Routines for easier multiline printing",
    "tags": [
     "collapsed"
    ]
   },
   "outputs": [],
   "source": [
    "# see https://beepb00p.xyz/ipynb-singleline.html\n",
    "\n",
    "def ldisplay_md(fmt, *args, **kwargs):\n",
    "    from IPython.display import Markdown\n",
    "    display(Markdown(fmt.format(\n",
    "        *(f'${latex(x)}$' for x in args),\n",
    "        **{k: f'${latex(v)}$' for k, v in kwargs.items()})\n",
    "    ))\n",
    "    \n",
    "def as_text(thing):\n",
    "    from IPython.core.interactiveshell import InteractiveShell # type: ignore\n",
    "    plain_formatter = InteractiveShell.instance().display_formatter.formatters['text/plain']\n",
    "    pp = plain_formatter(thing)\n",
    "    lines = pp.splitlines()\n",
    "    return lines\n",
    "\n",
    "def vcpad(lines, height):\n",
    "    width = len(lines[0])\n",
    "    missing = height - len(lines)\n",
    "    above = missing // 2\n",
    "    below = missing - above\n",
    "    return [' ' * width for _ in range(above)] + lines + [' ' * width for _ in range(below)]\n",
    "\n",
    "# terminal and emacs can't display markdown, so we have to use that as a workaround\n",
    "def mdisplay_plain(fmt, *args, **kwargs):\n",
    "    import re\n",
    "    from itertools import chain\n",
    "    fargs   = [as_text(a) for a in args]\n",
    "    fkwargs = {k: as_text(v) for k, v in kwargs.items()}\n",
    "\n",
    "    height = max(len(x) for x in chain(fargs, fkwargs.values()))\n",
    "\n",
    "    pargs   = [vcpad(a, height) for a in fargs]\n",
    "    pkwargs = {k: vcpad(v, height) for k, v in fkwargs.items()}\n",
    "\n",
    "    textpos = height // 2\n",
    "\n",
    "    lines = []\n",
    "    for h in range(height):\n",
    "        largs   = [a[h] for a in pargs]\n",
    "        lkwargs = {k: v[h] for k, v in pkwargs.items()}\n",
    "        if h == textpos:\n",
    "            fstr = fmt\n",
    "        else:\n",
    "            # we want to keep the formatting specifiers (stuff in curly braces and empty everything else)\n",
    "            fstr = \"\"\n",
    "            for e in re.finditer(r'{.*?}', fmt):\n",
    "                fstr = fstr + \" \" * (e.start() - len(fstr))\n",
    "                fstr += e.group()\n",
    "        lines.append(fstr.format(*largs, **lkwargs))\n",
    "    for line in lines:\n",
    "        print(line.rstrip())\n",
    "\n",
    "ldisplay = ldisplay_md"
   ]
  },
  {
   "cell_type": "markdown",
   "metadata": {},
   "source": [
    "TODO say something blah blah\n",
    "this is pretty simple stuff, but I've never seen it visualised anywhere and I think it would have helped me if it existed\n",
    "TODO literate programming blogging blah blah\n",
    "\n",
    "TODO something here https://youtu.be/p_di4Zn4wz4?t=1217"
   ]
  },
  {
   "cell_type": "code",
   "execution_count": null,
   "metadata": {},
   "outputs": [],
   "source": [
    "# init_printing(use_latex='mathjax') # TODO not sure if necessary?\n",
    "# TODO render line numbers"
   ]
  },
  {
   "cell_type": "code",
   "execution_count": null,
   "metadata": {},
   "outputs": [],
   "source": [
    "%matplotlib inline\n",
    "# PRIVATE TODO hmm what does %matplotlib notebook do? fucks up export though...\n",
    "from sympy import *\n",
    "from sympy import diff as D, Function as F\n",
    "from sympy.solvers.ode import classify_sysode # PRIVATE TODO use that?\n",
    "\n",
    "\n",
    "t = symbols('t', real=True) # time\n",
    "q = F('q')(t) # position\n",
    "v = F('v')(t) # velocity\n",
    "p = F('p')(t) # [conjugate] momentum"
   ]
  },
  {
   "cell_type": "markdown",
   "metadata": {},
   "source": [
    "Sadly, jupyter's capabilities for literate programing turned out to be poorer than I expected...\n",
    "Basically, you can't split a function among several cells. (TODO perhaps hack it via CSS or something?)\n",
    "So, over the course of the following function I'm gonna communicate with you via comments."
   ]
  },
  {
   "cell_type": "code",
   "execution_count": null,
   "metadata": {},
   "outputs": [],
   "source": [
    "# NOEXPORT TODO if we display side by side it might actually be ok\n",
    "def solve_lagrangian(Lag):\n",
    "    # So, we've got a Lagrangian:\n",
    "    ldisplay(\"$L$ = {}\", Lag)\n",
    "\n",
    "    # NOEXPORT TODO P jeez, I can' even insert link properly!\n",
    "    \"\"\"\n",
    "    To actually get motion it's way more convenient to solve Hamilton's equations.\n",
    "    It's fairly easy to get them via something called Legendre transormation:\n",
    "    https://en.wikipedia.org/wiki/Hamiltonian_mechanics#Calculating_a_Hamiltonian_from_a_Lagrangian    \n",
    "    \"\"\"\n",
    "    \n",
    "    p_of_v = Eq(p, Lag.diff(v))\n",
    "    [sol] = solve(p_of_v, v)\n",
    "    v_of_p = Eq(v, sol)\n",
    "    ldisplay(\"$p$ over $v$: {}\", p_of_v)\n",
    "    ldisplay(\"$v$ over $p$: {}\", v_of_p)\n",
    "    \n",
    "    # looks like variable replacement in Sympy is a bit more tedious than I expected\n",
    "    H = (v * p_of_v.rhs - Lag).subs({v_of_p.lhs: v_of_p.rhs})\n",
    "    ldisplay(\"$H$ = {}\", H) # cool, we've got Hamiltonian\n",
    "    \n",
    "    dq_eq = Eq(q.diff(t),  H.diff(p))\n",
    "    dp_eq = Eq(p.diff(t), -H.diff(q))\n",
    "    \n",
    "    ldisplay(\"Hamilton's equations: {}\", [dq_eq, dp_eq])\n",
    "\n",
    "    \"\"\"\n",
    "    lambdify is neat! It substitutes numpy equivalents for sympy functions,\n",
    "    so we get decent performance.\n",
    "    \"\"\"\n",
    "    dq = lambdify((q, p, t), dq_eq.rhs)\n",
    "    dp = lambdify((q, p, t), dp_eq.rhs)\n",
    "    \n",
    "    \"\"\"\n",
    "    Ok, let's finally have a break from this function, the actual numerical solving\n",
    "    can be extracted in a different function\n",
    "    \"\"\"\n",
    "    return (dq, dp)\n",
    "# NOEXPORT TODO might be interesting to pass q0v0?"
   ]
  },
  {
   "cell_type": "markdown",
   "metadata": {},
   "source": [
    "Ok, now we need to define some slightly cryptic routines to integrate and plot stuff. Hopefully, later their purpose would become more clear."
   ]
  },
  {
   "cell_type": "code",
   "execution_count": null,
   "metadata": {
    "collapsed-summary": "Routines for integration and plotting",
    "tags": [
     "collapsed"
    ]
   },
   "outputs": [],
   "source": [
    "import matplotlib.pyplot as plt\n",
    "plt.rcParams['figure.figsize'] = [9, 9]\n",
    "from sympy.plotting import plot, plot_parametric\n",
    "from scipy.integrate import odeint \n",
    "from numpy import linspace\n",
    "\n",
    "# PRIVATE TODO might be interesting to pass initial velocity?\n",
    "def plot_motion(\n",
    "    Lag, \n",
    "    q0p0s=[], # initial data\n",
    "    T_max=20, T_steps=1000, \n",
    "    q_max=None, \n",
    "    p_max=None,\n",
    "    plot_pq=True,\n",
    "    plot_phase=True,\n",
    "    plot_legends=True,\n",
    "):\n",
    "    # hacky way for convenience of taking either symbolic Lagrangian or numeric equations\n",
    "    dq, dp = Lag if isinstance(Lag, tuple) else solve_lagrangian(Lag)\n",
    "    \n",
    "    N = len(q0p0s)\n",
    "    labels = [f'{float(qq):.1f}, {float(pp):.1f}' for (qq, pp) in q0p0s]\n",
    "    \n",
    "    times = linspace(0, T_max, T_steps)\n",
    "    def integrate_step(qp, t):\n",
    "        prev_q, prev_p = qp\n",
    "        next_q = dq(prev_q, prev_p, t)\n",
    "        next_p =  dp(prev_q, prev_p, t)\n",
    "        return (next_q, next_p)\n",
    "    \n",
    "    all_ts = []\n",
    "    all_qs = []\n",
    "    all_ps = []\n",
    "    for q0, p0 in q0p0s:\n",
    "        sol = odeint(integrate_step, (q0, p0), times)\n",
    "        all_ts.append(times)\n",
    "        all_qs.append(sol[:, 0])\n",
    "        all_ps.append(sol[:, 1])\n",
    "\n",
    "    # ok, let's plot everything now!\n",
    "\n",
    "    blues  = plt.cm.winter(linspace(0, 1, N))\n",
    "    reds   = plt.cm.autumn(linspace(0, 1, N))\n",
    "    greens = plt.cm.Set1(linspace(0.5, 1, N))\n",
    "    # PRIVATE TODO ugh. better colors?\n",
    "\n",
    "    if plot_pq:\n",
    "        plt.figure(figsize=(7,7))\n",
    "        plt.grid()\n",
    "        plt.title('position/momentum over time')\n",
    "        plt.xlabel('t')\n",
    "        plt.ylabel('q,p')\n",
    "        for label, ts, qs, ps, blue, red in zip(labels, all_ts, all_qs, all_ps, blues, reds):\n",
    "            plt.plot(ts, qs, color=blue, label=f'q {label}')\n",
    "            plt.plot(ts, ps, color=red, label=f'p {label}')\n",
    "        if plot_legends: plt.legend(loc='upper left')\n",
    "        plt.show()\n",
    "\n",
    "    if plot_phase:\n",
    "        plt.figure(figsize=(15,7))\n",
    "        from mpl_toolkits.mplot3d import Axes3D\n",
    "        ax = plt.subplot(1, 2, 1)\n",
    "        ax3d = plt.subplot(1, 2, 2, projection='3d')\n",
    "    \n",
    "        ax.grid()\n",
    "        ax.set_title('phase plot')\n",
    "        ax.set_xlabel('q(t)')\n",
    "        ax.set_ylabel('p(t)')\n",
    "        if q_max is not None: ax.set_xlim((-q_max, q_max))\n",
    "        if p_max is not None: ax.set_ylim((-p_max, p_max))\n",
    "        for label, ts, qs, ps, green in zip(labels, all_ts, all_qs, all_ps, greens):\n",
    "            ax.plot(qs, ps, color=green, label=f'{label}')\n",
    "        if plot_legends: ax.legend(loc='upper left')\n",
    "\n",
    "        ax3d.grid()\n",
    "        ax3d.set_title('phase plot')\n",
    "        ax3d.set_xlabel('q')\n",
    "        ax3d.set_ylabel('p')\n",
    "        ax3d.set_zlabel('t')\n",
    "        if q_max is not None: ax3d.set_xlim((-q_max, q_max))\n",
    "        if p_max is not None: ax3d.set_ylim((-p_max, p_max))\n",
    "        for label, ts, qs, ps, green in zip(labels, all_ts, all_qs, all_ps, greens):\n",
    "            ax3d.plot(qs, ps, ts, color=green, label=label)\n",
    "        if plot_legends: ax3d.legend(loc='upper left')\n",
    "        plt.show()"
   ]
  },
  {
   "cell_type": "markdown",
   "metadata": {},
   "source": [
    "Ok, now that we defined the boilerplate, let's actually do something.\n",
    "    \n",
    "First test subject is pretty obvious: the harmonic oscillator."
   ]
  },
  {
   "cell_type": "code",
   "execution_count": null,
   "metadata": {},
   "outputs": [],
   "source": [
    "half = Rational(1, 2)  \n",
    "L_harm = half * v ** 2 - half * q ** 2\n",
    "plot_motion(\n",
    "    L_harm, \n",
    "    q0p0s=[\n",
    "        (-10, 10),\n",
    "        (10 , 10),\n",
    "        (10 , -10),\n",
    "        (-10, -10),\n",
    "    ]\n",
    ")"
   ]
  },
  {
   "cell_type": "markdown",
   "metadata": {},
   "source": [
    "As expected, we get circular motion in the position-momentum plane and a nice spiral on the projective plot.\n",
    "Let's try something else?"
   ]
  },
  {
   "cell_type": "code",
   "execution_count": null,
   "metadata": {},
   "outputs": [],
   "source": [
    "L_hill = half * v ** 2 + half * q ** 2\n",
    "dqdp = solve_lagrangian(L_hill)\n",
    "plot_motion(\n",
    "    dqdp, \n",
    "    q0p0s=[\n",
    "        (-1, -1),\n",
    "        (1 , 1),\n",
    "        (1 , -1),\n",
    "        (-1, 1),\n",
    "    ],\n",
    "    T_max=2,\n",
    ")"
   ]
  },
  {
   "cell_type": "markdown",
   "metadata": {},
   "source": [
    "If you think about it, here we've got a potential hill! So the only equilibrium for this system is $q=0, p=0$. Within this Lagrangian, you can reach it if your momentum (which coincides with velocity) is larger than the position in absolute value and of the opposite sign.\n",
    "\n",
    "TODO plot 3d lagrangian?\n",
    "\n",
    "If the sign you your momentum is same as the sign of your position, you're basically forever doomed to slide down the potential! We can illustrate that by plotting more phase plots:"
   ]
  },
  {
   "cell_type": "code",
   "execution_count": null,
   "metadata": {},
   "outputs": [],
   "source": [
    "def circle(R, phis):\n",
    "    return [(R * sin(phi), R * cos(phi)) for phi in phis]\n",
    "\n",
    "def circlespace(R, points):\n",
    "    return circle(R, linspace(0, 2 * np.pi, points))\n",
    "    \n",
    "plot_motion(\n",
    "    dqdp,\n",
    "    q0p0s=circlespace(R=5.0, points=36),\n",
    "    T_max=3,\n",
    "    p_max=5, q_max=5,\n",
    "    plot_pq=False, plot_legends=False,\n",
    ")"
   ]
  },
  {
   "cell_type": "markdown",
   "metadata": {},
   "source": [
    "If you look at the 2D phase plot, you can clearly spot hyperbolas. This is not a coincidence considering that the Hamiltonian can be interpreted as energy which is conserved during the motion, and the lines where $p^2 + q^2 = \\text{const}$ are precisely hyperbolas!\n",
    "\n",
    "Actually, matplotlib allows us to plot something even nicer:  `quiver` (usually called vector field or slope field) and `streamplot`."
   ]
  },
  {
   "cell_type": "code",
   "execution_count": null,
   "metadata": {},
   "outputs": [],
   "source": [
    "def plot_ham_field(\n",
    "    Lag, \n",
    "    steps=30, \n",
    "    qlim=None, \n",
    "    plim=None,\n",
    "    density=1,\n",
    "):\n",
    "    dq, dp = Lag if isinstance(Lag, tuple) else solve_lagrangian(Lag)\n",
    "    \n",
    "    qs = linspace(*qlim, steps)\n",
    "    ps = linspace(*plim, steps)\n",
    "    Q, P = np.meshgrid(qs, ps)\n",
    "    \n",
    "    T = 0 # we're exploiting knowledge that hamiltonians are time independent in our case\n",
    "    # PRIVATE TODO plot some gifs and try time dependent Hamiltonians? Although not sure if there are any interesting examples in classical mechanics..\n",
    "    Hq = dq(Q, P, T)\n",
    "    Hp = dp(Q, P, T)\n",
    "    \n",
    "    fig, ax = plt.subplots()\n",
    "    ax.set_title(\"Hamiltonian vector field\")\n",
    "    ax.set_xlabel('q')\n",
    "    ax.set_ylabel('p')\n",
    "    ax.set_aspect(aspect=1)\n",
    "    # PRIVATE TODO set size as well?\n",
    "    ax.streamplot(qs, ps, Hq, Hp, arrowstyle='-', density=density)\n",
    "    ax.quiver(qs, ps, Hq, Hp, scale=100)\n",
    "    plt.show()"
   ]
  },
  {
   "cell_type": "code",
   "execution_count": null,
   "metadata": {},
   "outputs": [],
   "source": [
    "plot_ham_field(dqdp, qlim=(-7, 7), plim=(-7, 7))"
   ]
  },
  {
   "cell_type": "code",
   "execution_count": null,
   "metadata": {},
   "outputs": [],
   "source": [
    "L = half * v ** 2 * q ** 2\n",
    "# L = half * v ** 2 * (q ** 2 + 1)\n",
    "# huh! this one behaves nicely... because it's not going to 0?\n",
    "\n",
    "# TODO L = half * v ** 2 * q\n",
    "# TODO hmmm. I used to have q^2. Can it be problematic for legendre transform?? Seems ok in terms of having inverse though\n",
    "# TODO investigate it separately?? \n",
    "# TODO analytical solution https://www.wolframalpha.com/input/?i=q%27%3Dp%2Fq;+p%27%3Dp%5E2%2F+(2+*+q%5E2)\n",
    "# doesn't seem to behave well for negative time. something has to be wrong, right?\n",
    "dqdp = solve_lagrangian(L)\n",
    "plot_motion(\n",
    "    dqdp, \n",
    "    q0p0s=[\n",
    "        (-1, -1),\n",
    "        (1 , 1),\n",
    "        (1 , -1),\n",
    "        (-1, 1),\n",
    "    ],\n",
    "    T_max=0.5,\n",
    ")"
   ]
  },
  {
   "cell_type": "markdown",
   "metadata": {},
   "source": [
    "Now this is something fun! We get some warning from the ODE solver. I've chosen `T_max` carefully here, i you increase it past 0.5, the numerical solution just goes nuts, and fair enough, if you look at the Hamiltonian, when $q=0$ clearly something bad has to happen. Or does it? Sadly, Sympy has a bug in the solver for that type of equations, so let's try doing it the old way."
   ]
  },
  {
   "cell_type": "markdown",
   "metadata": {},
   "source": [
    "Starting with $\\left [ \\frac{d}{d t} q{\\left (t \\right )} = \\frac{p{\\left (t \\right )}}{q^{2}{\\left (t \\right )}}, \\quad \\frac{d}{d t} p{\\left (t \\right )} = \\frac{p^{2}{\\left (t \\right )}}{q^{3}{\\left (t \\right )}}\\right ]$, if we divide LHS and RHS sides, we get something nice:\n",
    "\n",
    "$$\\frac{q'(t)}{p'(t)} = \\frac{q(t)}{p(t)}$$\n",
    "$$\\frac{q'(t)}{q(t)} = \\frac{p'(t)}{p(t)}$$\n",
    "If we integrate both parts, we get\n",
    "$$\\ln q(t) = \\ln p(t) + C$$\n",
    "or, equivalently,\n",
    "$$q(t) = C p(t)$$\n",
    "\n",
    "I find it interesting that we kind of could have seen it coming from the Hamiltonian if we think about what does it take for it to be a constant along the trajectory. Not sure if this argument can be generally useful though. But the important bit is that in our case, we have $H = \\frac{1}{2 C^2}$, so surely there can't be problem when $q = 0$. Let's dig further. If we substitute or result for $q$ in its Hamiltonian equation, we get:\n",
    "\n",
    "$$C p'(t) = \\frac{p(t)}{C^2 p^2(t)}$$\n",
    "$$ p'(t) = \\frac{1}{C^2} \\frac{1}{p(t)}$$\n",
    "$$p(t) = \\pm \\frac{1}{C^2} \\sqrt{2} \\sqrt{D + t}$$\n"
   ]
  },
  {
   "cell_type": "markdown",
   "metadata": {},
   "source": [
    "First thing that I find interesting is that this clearly discriminates against negative $t$. TODO is that interesting actually?\n",
    "\n",
    "Second, is that it's easy to see that when \n",
    "\n",
    "TODO ugh, must have something to do with branch cuts...\n",
    "\n",
    "TODO shit. maybe just give up on this one and write something about non-regularity (as in, lagrangian is non-regular over the whole q = 0 line)"
   ]
  },
  {
   "cell_type": "markdown",
   "metadata": {},
   "source": [
    "It's hard to tell what this Lagrangian represents TODO let me know.\n",
    "TODO highligh todos in hakyll/ci?\n",
    "TODO wtf?? slope field in wolfram is complete\n",
    "https://www.wolframalpha.com/input/?i=q%27%3Dp%2Fq%5E2;+p%27%3Dp%5E2%2Fq%5E3\n",
    "TODO mm. does it depend on which solution you choose or what?\n",
    "TODO huh? wolfram is solving it in complex numbers... https://www.wolframalpha.com/input/?i=q%27%3Dp%2Fq%5E2;+p%27%3Dp%5E2%2Fq%5E3+,+q(0)%3D-5,+p(0)%3D5\n",
    "\n",
    "TODO investigate what happens around 0..."
   ]
  },
  {
   "cell_type": "code",
   "execution_count": null,
   "metadata": {},
   "outputs": [],
   "source": [
    "plot_ham_field(dqdp, qlim=(-1, 1), plim=(-1, 1))"
   ]
  },
  {
   "cell_type": "markdown",
   "metadata": {},
   "source": [
    "Let's try something else"
   ]
  },
  {
   "cell_type": "code",
   "execution_count": null,
   "metadata": {},
   "outputs": [],
   "source": [
    "L = exp(v) - q ** 2\n",
    "dqdp = solve_lagrangian(L)\n",
    "plot_motion(\n",
    "    dqdp, \n",
    "    q0p0s=[\n",
    "        (-1, -1),\n",
    "        (1 , 1),\n",
    "        (1 , -1),\n",
    "        (-1, 1),\n",
    "    ],\n",
    "    T_max=0.5,\n",
    "    plot_phase=False,\n",
    ")"
   ]
  },
  {
   "cell_type": "markdown",
   "metadata": {},
   "source": [
    "Uh-oh, momentum appears under logarigthm. Let's just exclude negative momentum for now.."
   ]
  },
  {
   "cell_type": "code",
   "execution_count": null,
   "metadata": {},
   "outputs": [],
   "source": [
    "plot_motion(\n",
    "    dqdp, \n",
    "    q0p0s=[(q0, 1) for q0 in np.linspace(-5, -0.5, 10)] + [(q0, 20) for q0 in np.linspace(-5, -0.5, 10)],\n",
    "    T_max=2,\n",
    "    plot_pq=False,\n",
    ")\n",
    "plot_ham_field(\n",
    "    dqdp, \n",
    "    qlim=(-5, 5), plim=(0, 5),\n",
    "    density=2,\n",
    ")"
   ]
  },
  {
   "cell_type": "markdown",
   "metadata": {},
   "source": [
    "TODO interesting! look at slope field, this lagrangian is always doomed!!!\n",
    "TODO what if we continue it to complex plane?\n",
    "TODO hmm. is the initial position the only thing defining when it dies?? TODO nah, se below, it seems pretty random..\n",
    "TODO what happens to energy here?? Yep, exactly. when the energy is positive, it's fucked!\n",
    "TODO figure out how this relates?\n",
    "TODO it's a funny universe\n",
    "TODO huh, x log x is 0 when x -> 0\n",
    "basically, we need to find when slope of the phase plot is 0? so p'(t) = 0\n",
    "\n",
    "It's interesting though that the flow begs for continuation past the $p = 0$ line. Quick speculation: if you take your momentum as purely complex, you can draw in TODO draw. Not sure if it has any interesting physical, mathematical consequences, so I guess I'll have to look at it some other time (leave visible TODO?).\n",
    "\n",
    "Let's take a closer look at the stable phase orbits. TODO time flow?"
   ]
  },
  {
   "cell_type": "code",
   "execution_count": null,
   "metadata": {},
   "outputs": [],
   "source": [
    "plot_motion(\n",
    "    dqdp, \n",
    "    q0p0s=[(-0.2, p0) for p0 in np.linspace(1.0, 2.67, 15)],\n",
    "    T_max=30,\n",
    "    plot_pq=False,\n",
    ")"
   ]
  },
  {
   "cell_type": "markdown",
   "metadata": {},
   "source": [
    "TODO hmm. interesting that all orbits seem to evolve at the same rate? why is that? definitely need animation...\n",
    "\n",
    "\n",
    "TODO summarise what's hard to do. also smth about lagrangians"
   ]
  },
  {
   "cell_type": "code",
   "execution_count": null,
   "metadata": {
    "tags": [
     "noexport"
    ]
   },
   "outputs": [],
   "source": [
    "# TODO subsection for different lagrangians\n",
    "# ok, type3 makes sense\n",
    "\n",
    "# TODO exp + q ** 2?\n",
    "# TODO exp + q? could be interesting...\n",
    "# TODO right. any more interesting functions??\n",
    "\n",
    "# L = log(v) - q ** 2\n",
    "\n",
    "# ok, here it just bumps into the boundary as well\n",
    "# TODO wonder why is it so similar to exp??\n",
    "# TODO also, need to convert back to v from p?\n",
    "# TODO hm. logarithmic dies as well, but only defined for q > 0; p > 0\n",
    "\n",
    "# L = 1 / v ** 2  - q ** 2\n",
    "# this one is weird. if it doesn't get to p = 0 singularity, it's fine and just keeps goint to infty\n",
    "inits = [\n",
    "    #(-q_i , -p_i),\n",
    "    # (-5 , 5), # this guy lives a bit longer\n",
    "    (-10 , -100),\n",
    "    (-5 , -100),\n",
    "    (-1 , -100),\n",
    "    # (q_i  , p_i),\n",
    "]\n",
    "\n",
    "# TODO wtf?? what's up with duplication?\n",
    "\n",
    "# TODO wolframs slope/direction plot is pretty cool. try to reproduce?\n",
    "# TODO phase plot?\n",
    "# TODO lambdify that and plot\n",
    "# display stuff on the left?\n",
    "\n",
    "\"\"\"\n",
    "# TODO move this to body\n",
    "Sadly, ironically Sympy can't really solve them symbolically appart from the simplest case.\n",
    "https://github.com/sympy/sympy/issues/15707\n",
    "\"\"\"\n",
    "\n",
    "\"\"\"\n",
    "s_q0, s_p0 = symbols('p_0 q_0', real=True)\n",
    "\n",
    "sol = dsolve(\n",
    "    system, \n",
    "    [q, p],\n",
    "    # ics={\n",
    "    #     q.subs(t, 0): s_q0,\n",
    "    #     p.subs(t, 0): s_p0,\n",
    "    # }\n",
    ")\n",
    "[q_sol, p_sol] = sol\n",
    "display(q_sol, p_sol)\n",
    "\n",
    "# TODO ugh. ok, I guess try numerically\n",
    "(q_sol, p_sol) = (e.subs({s_q0: q0, s_p0: p0}) for e in (q_sol, p_sol))\n",
    "# display(q_sol, p_sol)\n",
    "#plot_parametric(\n",
    "#    (q_sol.rhs, p_sol.rhs),\n",
    "#    (t, 0, 10),\n",
    "#    xlabel='q',\n",
    "#    ylabel='p',\n",
    "#)\n",
    "# from sympy.utilities.lambdify import lambdify\n",
    "\"\"\""
   ]
  }
 ],
 "metadata": {
  "blog": {
   "date": "9 Jan 2019",
   "title": "Fun with Lagrangians"
  },
  "celltoolbar": "Edit Metadata",
  "kernelspec": {
   "display_name": "Python 3",
   "language": "python",
   "name": "python3"
  },
  "language_info": {
   "codemirror_mode": {
    "name": "ipython",
    "version": 3
   },
   "file_extension": ".py",
   "mimetype": "text/x-python",
   "name": "python",
   "nbconvert_exporter": "python",
   "pygments_lexer": "ipython3",
   "version": "3.7.3"
  }
 },
 "nbformat": 4,
 "nbformat_minor": 2
}
